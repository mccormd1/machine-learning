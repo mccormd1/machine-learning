{
 "cells": [
  {
   "cell_type": "markdown",
   "metadata": {
    "collapsed": true
   },
   "source": [
    "# Image Classification\n",
    "\n",
    "## Get the Data\n",
    "Run the following cell to download the [CIFAR-10 dataset for python](https://www.cs.toronto.edu/~kriz/cifar-10-python.tar.gz)."
   ]
  },
  {
   "cell_type": "code",
   "execution_count": 1,
   "metadata": {
    "collapsed": false
   },
   "outputs": [
    {
     "name": "stdout",
     "output_type": "stream",
     "text": [
      "All files found!\n"
     ]
    }
   ],
   "source": [
    "\n",
    "from urllib.request import urlretrieve\n",
    "from os.path import isfile, isdir\n",
    "from tqdm import tqdm\n",
    "import problem_unittests as tests\n",
    "import tarfile\n",
    "\n",
    "cifar10_dataset_folder_path = 'cifar-10-batches-py'\n",
    "\n",
    "class DLProgress(tqdm):\n",
    "    last_block = 0\n",
    "\n",
    "    def hook(self, block_num=1, block_size=1, total_size=None):\n",
    "        self.total = total_size\n",
    "        self.update((block_num - self.last_block) * block_size)\n",
    "        self.last_block = block_num\n",
    "\n",
    "if not isfile('cifar-10-python.tar.gz'):\n",
    "    with DLProgress(unit='B', unit_scale=True, miniters=1, desc='CIFAR-10 Dataset') as pbar:\n",
    "        urlretrieve(\n",
    "            'https://www.cs.toronto.edu/~kriz/cifar-10-python.tar.gz',\n",
    "            'cifar-10-python.tar.gz',\n",
    "            pbar.hook)\n",
    "\n",
    "if not isdir(cifar10_dataset_folder_path):\n",
    "    with tarfile.open('cifar-10-python.tar.gz') as tar:\n",
    "        tar.extractall()\n",
    "        tar.close()\n",
    "\n",
    "\n",
    "tests.test_folder_path(cifar10_dataset_folder_path)"
   ]
  },
  {
   "cell_type": "markdown",
   "metadata": {},
   "source": [
    "## Explore the Data\n",
    "The dataset is broken into batches to prevent your machine from running out of memory.  The CIFAR-10 dataset consists of 5 batches, named `data_batch_1`, `data_batch_2`, etc.. Each batch contains the labels and images that are one of the following:\n",
    "* airplane\n",
    "* automobile\n",
    "* bird\n",
    "* cat\n",
    "* deer\n",
    "* dog\n",
    "* frog\n",
    "* horse\n",
    "* ship\n",
    "* truck\n",
    "\n",
    "Understanding a dataset is part of making predictions on the data.  Play around with the code cell below by changing the `batch_id` and `sample_id`. The `batch_id` is the id for a batch (1-5). The `sample_id` is the id for a image and label pair in the batch.\n",
    "\n",
    "Ask yourself \"What are all possible labels?\", \"What is the range of values for the image data?\", \"Are the labels in order or random?\".  Answers to questions like these will help you preprocess the data and end up with better predictions."
   ]
  },
  {
   "cell_type": "code",
   "execution_count": 4,
   "metadata": {
    "collapsed": false
   },
   "outputs": [
    {
     "name": "stdout",
     "output_type": "stream",
     "text": [
      "\n",
      "Stats of batch 3:\n",
      "Samples: 10000\n",
      "Label Counts: {0: 994, 1: 1042, 2: 965, 3: 997, 4: 990, 5: 1029, 6: 978, 7: 1015, 8: 961, 9: 1029}\n",
      "First 20 Labels: [8, 5, 0, 6, 9, 2, 8, 3, 6, 2, 7, 4, 6, 9, 0, 0, 7, 3, 7, 2]\n",
      "\n",
      "Example of Image 192:\n",
      "Image - Min Value: 29 Max Value: 248\n",
      "Image - Shape: (32, 32, 3)\n",
      "Label - Label Id: 4 Name: deer\n"
     ]
    },
    {
     "data": {
      "image/png": "[encoded data removed]",
      "text/plain": [
       "<matplotlib.figure.Figure at 0x123b7aeb8>"
      ]
     },
     "metadata": {
      "image/png": {
       "height": 250,
       "width": 253
      }
     },
     "output_type": "display_data"
    }
   ],
   "source": [
    "%matplotlib inline\n",
    "%config InlineBackend.figure_format = 'retina'\n",
    "\n",
    "import helper\n",
    "import numpy as np\n",
    "\n",
    "# Explore the dataset\n",
    "batch_id = 3\n",
    "sample_id = 192\n",
    "helper.display_stats(cifar10_dataset_folder_path, batch_id, sample_id)\n",
    "\n",
    "##looks to be random order within a batch, and the batches have roughly similar numbers of\n",
    "##all categories within batches and across batches.\n",
    "\n",
    "##images are 32x32x3 and have a range of 0-255 per pixel. although it is worth noting\n",
    "## that the images often saturarate but rarely have 0 value pixels."
   ]
  },
  {
   "cell_type": "markdown",
   "metadata": {},
   "source": [
    "## Implement Preprocess Functions\n",
    "### Normalize\n",
    "In the cell below, implement the `normalize` function to take in image data, `x`, and return it as a normalized Numpy array. The values should be in the range of 0 to 1, inclusive.  The return object should be the same shape as `x`."
   ]
  },
  {
   "cell_type": "code",
   "execution_count": 5,
   "metadata": {
    "collapsed": false
   },
   "outputs": [
    {
     "name": "stdout",
     "output_type": "stream",
     "text": [
      "Tests Passed\n"
     ]
    }
   ],
   "source": [
    "def normalize(x):\n",
    "    \"\"\"\n",
    "    Normalize a list of sample image data in the range of 0 to 1\n",
    "    : x: List of image data.  The image shape is (32, 32, 3)\n",
    "    : return: Numpy array of normalize data\n",
    "    \"\"\"\n",
    "    # TODO: Implement Function\n",
    "    norm=x/255 ##because min=0, using basic (x-min)/(max-min) formula for scaling\n",
    "    return norm\n",
    "\n"
   ]
  },
  {
   "cell_type": "markdown",
   "metadata": {},
   "source": [
    "### One-hot encode\n",
    "Just like the previous code cell, you'll be implementing a function for preprocessing.  This time, you'll implement the `one_hot_encode` function. The input, `x`, are a list of labels.  Implement the function to return the list of labels as One-Hot encoded Numpy array.  The possible values for labels are 0 to 9. The one-hot encoding function should return the same encoding for each value between each call to `one_hot_encode`.  Make sure to save the map of encodings outside the function.\n",
    "\n",
    "**Hint:**\n",
    "\n",
    "Look into LabelBinarizer in the preprocessing module of sklearn."
   ]
  },
  {
   "cell_type": "code",
   "execution_count": 6,
   "metadata": {
    "collapsed": false
   },
   "outputs": [
    {
     "name": "stdout",
     "output_type": "stream",
     "text": [
      "Tests Passed\n"
     ]
    }
   ],
   "source": [
    "def one_hot_encode(x):\n",
    "    \"\"\"\n",
    "    One hot encode a list of sample labels. Return a one-hot encoded vector for each label.\n",
    "    : x: List of sample Labels\n",
    "    : return: Numpy array of one-hot encoded labels\n",
    "    \"\"\"\n",
    "    # TODO: Implement Function\n",
    "    from sklearn import preprocessing\n",
    "    lb=preprocessing.LabelBinarizer()\n",
    "    lb.fit(range(0,10))\n",
    "    return lb.transform(x)\n",
    "\n"
   ]
  },
  {
   "cell_type": "markdown",
   "metadata": {},
   "source": [
    "### Randomize Data\n",
    "As you saw from exploring the data above, the order of the samples are randomized.  It doesn't hurt to randomize it again, but you don't need to for this dataset."
   ]
  },
  {
   "cell_type": "markdown",
   "metadata": {},
   "source": [
    "## Preprocess all the data and save it\n",
    "Running the code cell below will preprocess all the CIFAR-10 data and save it to file. The code below also uses 10% of the training data for validation."
   ]
  },
  {
   "cell_type": "code",
   "execution_count": 7,
   "metadata": {
    "collapsed": true
   },
   "outputs": [],
   "source": [
    "\n",
    "# Preprocess Training, Validation, and Testing Data\n",
    "helper.preprocess_and_save_data(cifar10_dataset_folder_path, normalize, one_hot_encode)"
   ]
  },
  {
   "cell_type": "markdown",
   "metadata": {},
   "source": [
    "Save to disk"
   ]
  },
  {
   "cell_type": "code",
   "execution_count": 8,
   "metadata": {
    "collapsed": true
   },
   "outputs": [],
   "source": [
    "\n",
    "import pickle\n",
    "import problem_unittests as tests\n",
    "import helper\n",
    "\n",
    "# Load the Preprocessed Validation data\n",
    "valid_features, valid_labels = pickle.load(open('preprocess_validation.p', mode='rb'))"
   ]
  },
  {
   "cell_type": "markdown",
   "metadata": {},
   "source": [
    "## Build the network\n",
    "For the neural network, you'll build each layer into a function.  Most of the code you've seen has been outside of functions. To test your code more thoroughly, we require that you put each layer in a function.  This allows us to give you better feedback and test for simple mistakes using our unittests before you submit your project.\n",
    "\n",
    ">**Note:** If you're finding it hard to dedicate enough time for this course each week, we've provided a small shortcut to this part of the project. In the next couple of problems, you'll have the option to use classes from the [TensorFlow Layers](https://www.tensorflow.org/api_docs/python/tf/layers) or [TensorFlow Layers (contrib)](https://www.tensorflow.org/api_guides/python/contrib.layers) packages to build each layer, except the layers you build in the \"Convolutional and Max Pooling Layer\" section.  TF Layers is similar to Keras's and TFLearn's abstraction to layers, so it's easy to pickup.\n",
    "\n",
    ">However, if you would like to get the most out of this course, try to solve all the problems _without_ using anything from the TF Layers packages. You **can** still use classes from other packages that happen to have the same name as ones you find in TF Layers! For example, instead of using the TF Layers version of the `conv2d` class, [tf.layers.conv2d](https://www.tensorflow.org/api_docs/python/tf/layers/conv2d), you would want to use the TF Neural Network version of `conv2d`, [tf.nn.conv2d](https://www.tensorflow.org/api_docs/python/tf/nn/conv2d). \n",
    "\n",
    "Let's begin!\n",
    "\n",
    "### Input\n",
    "The neural network needs to read the image data, one-hot encoded labels, and dropout keep probability. Implement the following functions\n",
    "* Implement `neural_net_image_input`\n",
    " * Return a [TF Placeholder](https://www.tensorflow.org/api_docs/python/tf/placeholder)\n",
    " * Set the shape using `image_shape` with batch size set to `None`.\n",
    " * Name the TensorFlow placeholder \"x\" using the TensorFlow `name` parameter in the [TF Placeholder](https://www.tensorflow.org/api_docs/python/tf/placeholder).\n",
    "* Implement `neural_net_label_input`\n",
    " * Return a [TF Placeholder](https://www.tensorflow.org/api_docs/python/tf/placeholder)\n",
    " * Set the shape using `n_classes` with batch size set to `None`.\n",
    " * Name the TensorFlow placeholder \"y\" using the TensorFlow `name` parameter in the [TF Placeholder](https://www.tensorflow.org/api_docs/python/tf/placeholder).\n",
    "* Implement `neural_net_keep_prob_input`\n",
    " * Return a [TF Placeholder](https://www.tensorflow.org/api_docs/python/tf/placeholder) for dropout keep probability.\n",
    " * Name the TensorFlow placeholder \"keep_prob\" using the TensorFlow `name` parameter in the [TF Placeholder](https://www.tensorflow.org/api_docs/python/tf/placeholder).\n",
    "\n",
    "These names will be used at the end of the project to load your saved model.\n",
    "\n",
    "Note: `None` for shapes in TensorFlow allow for a dynamic size."
   ]
  },
  {
   "cell_type": "code",
   "execution_count": 23,
   "metadata": {
    "collapsed": false
   },
   "outputs": [
    {
     "name": "stdout",
     "output_type": "stream",
     "text": [
      "Image Input Tests Passed.\n",
      "Label Input Tests Passed.\n",
      "Keep Prob Tests Passed.\n"
     ]
    }
   ],
   "source": [
    "import tensorflow as tf\n",
    "\n",
    "def neural_net_image_input(image_shape):\n",
    "    \"\"\"\n",
    "    Return a Tensor for a batch of image input\n",
    "    : image_shape: Shape of the images\n",
    "    : return: Tensor for image input.\n",
    "    \"\"\"\n",
    "    # TODO: Implement Function\n",
    "    batch_size=(None,)+ image_shape\n",
    "    return tf.placeholder(tf.float32,shape=batch_size,name=\"x\")\n",
    "\n",
    "\n",
    "def neural_net_label_input(n_classes):\n",
    "    \"\"\"\n",
    "    Return a Tensor for a batch of label input\n",
    "    : n_classes: Number of classes\n",
    "    : return: Tensor for label input.\n",
    "    \"\"\"\n",
    "    # TODO: Implement Function\n",
    "    batch_size=[None,n_classes]\n",
    "    return tf.placeholder(tf.float32,shape=batch_size,name=\"y\")\n",
    "\n",
    "\n",
    "def neural_net_keep_prob_input():\n",
    "    \"\"\"\n",
    "    Return a Tensor for keep probability\n",
    "    : return: Tensor for keep probability.\n",
    "    \"\"\"\n",
    "    # TODO: Implement Function\n",
    "    return tf.placeholder(tf.float32,name=\"keep_prob\")\n",
    "\n",
    "\n",
    "\"\"\"\n",
    "DON'T MODIFY ANYTHING IN THIS CELL THAT IS BELOW THIS LINE\n",
    "\"\"\"\n",
    "tf.reset_default_graph()\n",
    "tests.test_nn_image_inputs(neural_net_image_input)\n",
    "tests.test_nn_label_inputs(neural_net_label_input)\n",
    "tests.test_nn_keep_prob_inputs(neural_net_keep_prob_input)"
   ]
  },
  {
   "cell_type": "markdown",
   "metadata": {},
   "source": [
    "### Convolution and Max Pooling Layer\n",
    "Convolution layers have a lot of success with images. For this code cell, you should implement the function `conv2d_maxpool` to apply convolution then max pooling:\n",
    "* Create the weight and bias using `conv_ksize`, `conv_num_outputs` and the shape of `x_tensor`.\n",
    "* Apply a convolution to `x_tensor` using weight and `conv_strides`.\n",
    " * We recommend you use same padding, but you're welcome to use any padding.\n",
    "* Add bias\n",
    "* Add a nonlinear activation to the convolution.\n",
    "* Apply Max Pooling using `pool_ksize` and `pool_strides`.\n",
    " * We recommend you use same padding, but you're welcome to use any padding.\n",
    "\n",
    "**Note:** You **can't** use [TensorFlow Layers](https://www.tensorflow.org/api_docs/python/tf/layers) or [TensorFlow Layers (contrib)](https://www.tensorflow.org/api_guides/python/contrib.layers) for **this** layer, but you can still use TensorFlow's [Neural Network](https://www.tensorflow.org/api_docs/python/tf/nn) package. You may still use the shortcut option for all the **other** layers.\n",
    "\n",
    "** Hint: **\n",
    "\n",
    "When unpacking values as an argument in Python, look into the [unpacking](https://docs.python.org/3/tutorial/controlflow.html#unpacking-argument-lists) operator. "
   ]
  },
  {
   "cell_type": "code",
   "execution_count": null,
   "metadata": {
    "collapsed": true
   },
   "outputs": [],
   "source": [
    "def conv2d_maxpool(x_tensor, conv_num_outputs, conv_ksize, conv_strides, pool_ksize, pool_strides):\n",
    "    \"\"\"\n",
    "    Apply convolution then max pooling to x_tensor\n",
    "    :param x_tensor: TensorFlow Tensor\n",
    "    :param conv_num_outputs: Number of outputs for the convolutional layer\n",
    "    :param conv_ksize: kernal size 2-D Tuple for the convolutional layer\n",
    "    :param conv_strides: Stride 2-D Tuple for convolution\n",
    "    :param pool_ksize: kernal size 2-D Tuple for pool\n",
    "    :param pool_strides: Stride 2-D Tuple for pool\n",
    "    : return: A tensor that represents convolution and max pooling of x_tensor\n",
    "    \"\"\"\n",
    "    # TODO: Implement Function\n",
    "#     print((x_tensor.shape))\n",
    "#     print(conv_num_outputs,conv_ksize,conv_strides,pool_ksize,pool_strides)\n",
    "    #create weight and bias using conv_ksize,conv_num_outputs, and shape of x_tensor\n",
    "#     F_W=tf.Variable(tf.random_normal([conv_ksize[0],conv_ksize[1],x_tensor.get_shape().as_list()[3],conv_num_outputs]))#[conv_ksize[0],conv_ksize[1],x_tensor.shape[3],conv_num_outputs]))\n",
    "    dims=x_tensor.get_shape().as_list()\n",
    "    stdev=(2/(dims[1]*dims[2]*dims[3]))**.5\n",
    "    F_W=tf.Variable(tf.truncated_normal([conv_ksize[0],conv_ksize[1],x_tensor.get_shape().as_list()[3],conv_num_outputs],stddev=stdev))#[conv_ksize[0],conv_ksize[1],x_tensor.shape[3],conv_num_outputs]))\n",
    "    F_b=tf.Variable(tf.zeros([conv_num_outputs]))\n",
    "#     F_b=tf.Variable(tf.random_normal([conv_num_outputs]))\n",
    "    #apply convolution to x_tensor using weight and conv_strides\n",
    "    #add bias\n",
    "    cvout=tf.nn.conv2d(x_tensor,F_W,strides=[1,conv_strides[0],conv_strides[1],1],padding='SAME')\n",
    "    cvbias=tf.nn.bias_add(cvout,F_b)\n",
    "\n",
    "    #add a nonlinear activation to convolution\n",
    "    reluout=tf.nn.relu(cvbias)\n",
    "    #apply max pooling using pool_ksize and pool_strides\n",
    "    maxout=tf.nn.max_pool(reluout,ksize=[1,pool_ksize[0],pool_ksize[1],1],strides=[1,pool_strides[0],pool_strides[1],1],padding='SAME')\n",
    "    return maxout \n",
    "\n"
   ]
  },
  {
   "cell_type": "markdown",
   "metadata": {},
   "source": [
    "### Flatten Layer\n",
    "Implement the `flatten` function to change the dimension of `x_tensor` from a 4-D tensor to a 2-D tensor.  The output should be the shape (*Batch Size*, *Flattened Image Size*). Shortcut option: you can use classes from the [TensorFlow Layers](https://www.tensorflow.org/api_docs/python/tf/layers) or [TensorFlow Layers (contrib)](https://www.tensorflow.org/api_guides/python/contrib.layers) packages for this layer. For more of a challenge, only use other TensorFlow packages."
   ]
  },
  {
   "cell_type": "code",
   "execution_count": 41,
   "metadata": {
    "collapsed": false
   },
   "outputs": [
    {
     "name": "stdout",
     "output_type": "stream",
     "text": [
      "Tests Passed\n"
     ]
    }
   ],
   "source": [
    "def flatten(x_tensor):\n",
    "    \"\"\"\n",
    "    Flatten x_tensor to (Batch Size, Flattened Image Size)\n",
    "    : x_tensor: A tensor of size (Batch Size, ...), where ... are the image dimensions.\n",
    "    : return: A tensor of size (Batch Size, Flattened Image Size).\n",
    "    \"\"\"\n",
    "    # TODO: Implement Function\n",
    "    imshape=x_tensor.get_shape().as_list()\n",
    "#     print(imshape)\n",
    "    flat=tf.reshape(x_tensor,[-1,imshape[1]*imshape[2]*imshape[3]])\n",
    "#     print(flat)\n",
    "    return flat\n"
   ]
  },
  {
   "cell_type": "markdown",
   "metadata": {},
   "source": [
    "### Fully-Connected Layer\n",
    "Implement the `fully_conn` function to apply a fully connected layer to `x_tensor` with the shape (*Batch Size*, *num_outputs*). Shortcut option: you can use classes from the [TensorFlow Layers](https://www.tensorflow.org/api_docs/python/tf/layers) or [TensorFlow Layers (contrib)](https://www.tensorflow.org/api_guides/python/contrib.layers) packages for this layer. For more of a challenge, only use other TensorFlow packages."
   ]
  },
  {
   "cell_type": "code",
   "execution_count": 42,
   "metadata": {
    "collapsed": false
   },
   "outputs": [
    {
     "name": "stdout",
     "output_type": "stream",
     "text": [
      "Tests Passed\n"
     ]
    }
   ],
   "source": [
    "def fully_conn(x_tensor, num_outputs):\n",
    "    \"\"\"\n",
    "    Apply a fully connected layer to x_tensor using weight and bias\n",
    "    : x_tensor: A 2-D tensor where the first dimension is batch size.\n",
    "    : num_outputs: The number of output that the new tensor should be.\n",
    "    : return: A 2-D tensor where the second dimension is num_outputs.\n",
    "    \"\"\"\n",
    "    # TODO: Implement Function\n",
    "#     print(x_tensor) ##is there a better way to get a sense of the tensors?\n",
    "#     weights=tf.Variable(tf.random_normal([x_tensor.get_shape().as_list()[1],num_outputs]))\n",
    "    dims=x_tensor.get_shape().as_list()\n",
    "    stdev=(2/(dims[1]))**.5\n",
    "    weights=tf.Variable(tf.truncated_normal([x_tensor.get_shape().as_list()[1],num_outputs],stddev=stdev))\n",
    "    biases=tf.Variable(tf.zeros([num_outputs]))\n",
    "#     biases=tf.Variable(tf.random_normal([num_outputs]))\n",
    "#     print(weights,biases)\n",
    "    layer=tf.add(tf.matmul(x_tensor,weights),biases)\n",
    "    layer=tf.nn.relu(layer)\n",
    "    return layer\n"
   ]
  },
  {
   "cell_type": "markdown",
   "metadata": {},
   "source": [
    "### Output Layer\n",
    "Implement the `output` function to apply a fully connected layer to `x_tensor` with the shape (*Batch Size*, *num_outputs*). Shortcut option: you can use classes from the [TensorFlow Layers](https://www.tensorflow.org/api_docs/python/tf/layers) or [TensorFlow Layers (contrib)](https://www.tensorflow.org/api_guides/python/contrib.layers) packages for this layer. For more of a challenge, only use other TensorFlow packages.\n",
    "\n",
    "**Note:** Activation, softmax, or cross entropy should **not** be applied to this."
   ]
  },
  {
   "cell_type": "code",
   "execution_count": 53,
   "metadata": {
    "collapsed": false
   },
   "outputs": [
    {
     "name": "stdout",
     "output_type": "stream",
     "text": [
      "Tests Passed\n"
     ]
    }
   ],
   "source": [
    "def output(x_tensor, num_outputs):\n",
    "    \"\"\"\n",
    "    Apply a output layer to x_tensor using weight and bias\n",
    "    : x_tensor: A 2-D tensor where the first dimension is batch size.\n",
    "    : num_outputs: The number of output that the new tensor should be.\n",
    "    : return: A 2-D tensor where the second dimension is num_outputs.\n",
    "    \"\"\"\n",
    "    # TODO: Implement Function\n",
    "#     print(x_tensor,num_outputs)\n",
    "#     weight=tf.Variable(tf.random_normal([x_tensor.get_shape().as_list()[1],num_outputs]))\n",
    "    dims=x_tensor.get_shape().as_list()\n",
    "    stdev=(2/(dims[1]))**.5\n",
    "    weights=tf.Variable(tf.truncated_normal([x_tensor.get_shape().as_list()[1],num_outputs],stddev=stdev))\n",
    "    biases=tf.Variable(tf.zeros([num_outputs]))\n",
    "#     biases=tf.Variable(tf.random_normal([num_outputs]))\n",
    "#     print(weight,biases)\n",
    "    out=tf.add(tf.matmul(x_tensor,weights),biases)\n",
    "    return out\n",
    "\n"
   ]
  },
  {
   "cell_type": "markdown",
   "metadata": {},
   "source": [
    "### Create Convolutional Model\n",
    "Implement the function `conv_net` to create a convolutional neural network model. The function takes in a batch of images, `x`, and outputs logits.  Use the layers you created above to create this model:\n",
    "\n",
    "* Apply 1, 2, or 3 Convolution and Max Pool layers\n",
    "* Apply a Flatten Layer\n",
    "* Apply 1, 2, or 3 Fully Connected Layers\n",
    "* Apply an Output Layer\n",
    "* Return the output\n",
    "* Apply [TensorFlow's Dropout](https://www.tensorflow.org/api_docs/python/tf/nn/dropout) to one or more layers in the model using `keep_prob`. "
   ]
  },
  {
   "cell_type": "code",
   "execution_count": 61,
   "metadata": {
    "collapsed": false
   },
   "outputs": [
    {
     "name": "stdout",
     "output_type": "stream",
     "text": [
      "Neural Network Built!\n"
     ]
    }
   ],
   "source": [
    "def conv_net(x, keep_prob):\n",
    "    \"\"\"\n",
    "    Create a convolutional neural network model\n",
    "    : x: Placeholder tensor that holds image data.\n",
    "    : keep_prob: Placeholder tensor that hold dropout keep probability.\n",
    "    : return: Tensor that represents logits\n",
    "    \"\"\"\n",
    "    # TODO: Apply 1, 2, or 3 Convolution and Max Pool layers\n",
    "    #    Play around with different number of outputs, kernel size and stride\n",
    "    # Function Definition from Above:\n",
    "    #    conv2d_maxpool(x_tensor, conv_num_outputs, conv_ksize, conv_strides, pool_ksize, pool_strides)\n",
    "    CL1=conv2d_maxpool(x,32,(3,3),(1,1),(2,2),(2,2))\n",
    "    CL2=conv2d_maxpool(CL1,64,(3,3),(1,1),(2,2),(2,2))\n",
    "    CL3=conv2d_maxpool(CL2,128,(3,3),(1,1),(2,2),(2,2))\n",
    "#     CL4=conv2d_maxpool(CL3,256,(3,3),(1,1),(2,2),(2,2))\n",
    "    # Apply a Flatten Layer\n",
    "    # Function Definition from Above:\n",
    "    #   flatten(x_tensor)\n",
    "    flat=flatten(CL3)\n",
    "\n",
    "    # Apply Fully Connected Layers\n",
    "    # Function Definition from Above:\n",
    "    #   fully_conn(x_tensor, num_outputs)\n",
    "    FCL1=fully_conn(flat,256)\n",
    "    FCL1=tf.nn.dropout(FCL1,keep_prob)\n",
    "    FCL2=fully_conn(FCL1,64)\n",
    "    FCL2=tf.nn.dropout(FCL2,keep_prob)\n",
    "#     FCL3=fully_conn(FCL2,128)\n",
    "#     FCL4=fully_conn(FCL3,64)\n",
    "    # TODO: Apply an Output Layer\n",
    "    #    Set this to the number of classes\n",
    "    # Function Definition from Above:\n",
    "    #   output(x_tensor, num_outputs)\n",
    "    out=output(FCL2,10)\n",
    "    \n",
    "    # TODO: return output\n",
    "    return out\n",
    "\n",
    "\n",
    "\n",
    "##############################\n",
    "## Build the Neural Network ##\n",
    "##############################\n",
    "\n",
    "# Remove previous weights, bias, inputs, etc..\n",
    "tf.reset_default_graph()\n",
    "\n",
    "# Inputs\n",
    "x = neural_net_image_input((32, 32, 3))\n",
    "y = neural_net_label_input(10)\n",
    "keep_prob = neural_net_keep_prob_input()\n",
    "\n",
    "# Model\n",
    "logits = conv_net(x, keep_prob)\n",
    "\n",
    "# Name logits Tensor, so that is can be loaded from disk after training\n",
    "logits = tf.identity(logits, name='logits')\n",
    "\n",
    "# Loss and Optimizer\n",
    "cost = tf.reduce_mean(tf.nn.softmax_cross_entropy_with_logits(logits=logits, labels=y))\n",
    "optimizer = tf.train.AdamOptimizer().minimize(cost)\n",
    "\n",
    "# Accuracy\n",
    "correct_pred = tf.equal(tf.argmax(logits, 1), tf.argmax(y, 1))\n",
    "accuracy = tf.reduce_mean(tf.cast(correct_pred, tf.float32), name='accuracy')\n",
    "\n",
    "tests.test_conv_net(conv_net)"
   ]
  },
  {
   "cell_type": "markdown",
   "metadata": {},
   "source": [
    "## Train the Neural Network\n",
    "### Single Optimization\n",
    "Implement the function `train_neural_network` to do a single optimization.  The optimization should use `optimizer` to optimize in `session` with a `feed_dict` of the following:\n",
    "* `x` for image input\n",
    "* `y` for labels\n",
    "* `keep_prob` for keep probability for dropout\n",
    "\n",
    "This function will be called for each batch, so `tf.global_variables_initializer()` has already been called.\n",
    "\n",
    "Note: Nothing needs to be returned. This function is only optimizing the neural network."
   ]
  },
  {
   "cell_type": "code",
   "execution_count": 62,
   "metadata": {
    "collapsed": false
   },
   "outputs": [
    {
     "name": "stdout",
     "output_type": "stream",
     "text": [
      "Tests Passed\n"
     ]
    }
   ],
   "source": [
    "def train_neural_network(session, optimizer, keep_probability, feature_batch, label_batch):\n",
    "    \"\"\"\n",
    "    Optimize the session on a batch of images and labels\n",
    "    : session: Current TensorFlow session\n",
    "    : optimizer: TensorFlow optimizer function\n",
    "    : keep_probability: keep probability\n",
    "    : feature_batch: Batch of Numpy image data\n",
    "    : label_batch: Batch of Numpy label data\n",
    "    \"\"\"\n",
    "    # TODO: Implement Function\n",
    "    \n",
    "    session.run(optimizer,feed_dict={x:feature_batch,y:label_batch,keep_prob:keep_probability})\n",
    "\n",
    "\n",
    "tests.test_train_nn(train_neural_network)"
   ]
  },
  {
   "cell_type": "markdown",
   "metadata": {},
   "source": [
    "### Show Stats\n",
    "Implement the function `print_stats` to print loss and validation accuracy.  Use the global variables `valid_features` and `valid_labels` to calculate validation accuracy.  Use a keep probability of `1.0` to calculate the loss and validation accuracy."
   ]
  },
  {
   "cell_type": "code",
   "execution_count": 63,
   "metadata": {
    "collapsed": true
   },
   "outputs": [],
   "source": [
    "def print_stats(session, feature_batch, label_batch, cost, accuracy):\n",
    "    \"\"\"\n",
    "    Print information about loss and validation accuracy\n",
    "    : session: Current TensorFlow session\n",
    "    : feature_batch: Batch of Numpy image data\n",
    "    : label_batch: Batch of Numpy label data\n",
    "    : cost: TensorFlow cost function\n",
    "    : accuracy: TensorFlow accuracy function\n",
    "    \"\"\"\n",
    "    # TODO: Implement Function\n",
    "    loss=session.run(cost,feed_dict={x:feature_batch,y:label_batch,keep_prob:1.})\n",
    "    val_acc=session.run(accuracy,feed_dict={x:valid_features,y:valid_labels,keep_prob:1.})\n",
    "    print(\"Loss: {:>10.4f}, Accuracy: {}\".format(loss,val_acc))\n",
    "#     pass"
   ]
  },
  {
   "cell_type": "markdown",
   "metadata": {},
   "source": [
    "### Hyperparameters\n",
    "Tune the following parameters:\n",
    "* Set `epochs` to the number of iterations until the network stops learning or start overfitting\n",
    "* Set `batch_size` to the highest number that your machine has memory for.  Most people set them to common sizes of memory:\n",
    " * 64\n",
    " * 128\n",
    " * 256\n",
    " * ...\n",
    "* Set `keep_probability` to the probability of keeping a node using dropout"
   ]
  },
  {
   "cell_type": "code",
   "execution_count": 68,
   "metadata": {
    "collapsed": true
   },
   "outputs": [],
   "source": [
    "# TODO: Tune Parameters\n",
    "epochs = 25\n",
    "batch_size = 512\n",
    "keep_probability = .7"
   ]
  },
  {
   "cell_type": "markdown",
   "metadata": {},
   "source": [
    "### Train on a Single CIFAR-10 Batch\n",
    "Instead of training the neural network on all the CIFAR-10 batches of data, let's use a single batch. This should save time while you iterate on the model to get a better accuracy.  Once the final validation accuracy is 50% or greater, run the model on all the data in the next section."
   ]
  },
  {
   "cell_type": "code",
   "execution_count": 65,
   "metadata": {
    "collapsed": false
   },
   "outputs": [
    {
     "name": "stdout",
     "output_type": "stream",
     "text": [
      "Checking the Training on a Single Batch...\n",
      "Epoch  1, CIFAR-10 Batch 1:  Loss:     2.1297, Accuracy: 0.24500000476837158\n",
      "Epoch  2, CIFAR-10 Batch 1:  Loss:     2.0300, Accuracy: 0.27619999647140503\n",
      "Epoch  3, CIFAR-10 Batch 1:  Loss:     1.9413, Accuracy: 0.3025999963283539\n",
      "Epoch  4, CIFAR-10 Batch 1:  Loss:     1.8514, Accuracy: 0.3580000102519989\n",
      "Epoch  5, CIFAR-10 Batch 1:  Loss:     1.8009, Accuracy: 0.3628000020980835\n",
      "Epoch  6, CIFAR-10 Batch 1:  Loss:     1.7105, Accuracy: 0.39160001277923584\n",
      "Epoch  7, CIFAR-10 Batch 1:  Loss:     1.6651, Accuracy: 0.3986000120639801\n",
      "Epoch  8, CIFAR-10 Batch 1:  Loss:     1.6270, Accuracy: 0.40639999508857727\n",
      "Epoch  9, CIFAR-10 Batch 1:  Loss:     1.5700, Accuracy: 0.4169999957084656\n",
      "Epoch 10, CIFAR-10 Batch 1:  Loss:     1.5172, Accuracy: 0.45320001244544983\n",
      "Epoch 11, CIFAR-10 Batch 1:  Loss:     1.4698, Accuracy: 0.46140000224113464\n",
      "Epoch 12, CIFAR-10 Batch 1:  Loss:     1.4196, Accuracy: 0.4724000096321106\n",
      "Epoch 13, CIFAR-10 Batch 1:  Loss:     1.3890, Accuracy: 0.47859999537467957\n",
      "Epoch 14, CIFAR-10 Batch 1:  Loss:     1.3378, Accuracy: 0.49559998512268066\n",
      "Epoch 15, CIFAR-10 Batch 1:  Loss:     1.3127, Accuracy: 0.5023999810218811\n",
      "Epoch 16, CIFAR-10 Batch 1:  Loss:     1.3168, Accuracy: 0.5016000270843506\n",
      "Epoch 17, CIFAR-10 Batch 1:  Loss:     1.2384, Accuracy: 0.5198000073432922\n",
      "Epoch 18, CIFAR-10 Batch 1:  Loss:     1.2190, Accuracy: 0.5181999802589417\n",
      "Epoch 19, CIFAR-10 Batch 1:  Loss:     1.1653, Accuracy: 0.5314000248908997\n",
      "Epoch 20, CIFAR-10 Batch 1:  Loss:     1.1369, Accuracy: 0.5347999930381775\n"
     ]
    }
   ],
   "source": [
    "\n",
    "print('Checking the Training on a Single Batch...')\n",
    "with tf.Session() as sess:\n",
    "    # Initializing the variables\n",
    "    sess.run(tf.global_variables_initializer())\n",
    "    \n",
    "    # Training cycle\n",
    "    for epoch in range(epochs):\n",
    "        batch_i = 1\n",
    "        for batch_features, batch_labels in helper.load_preprocess_training_batch(batch_i, batch_size):\n",
    "            train_neural_network(sess, optimizer, keep_probability, batch_features, batch_labels)\n",
    "        print('Epoch {:>2}, CIFAR-10 Batch {}:  '.format(epoch + 1, batch_i), end='')\n",
    "        print_stats(sess, batch_features, batch_labels, cost, accuracy)"
   ]
  },
  {
   "cell_type": "markdown",
   "metadata": {},
   "source": [
    "### Fully Train the Model\n",
    "Now that you got a good accuracy with a single CIFAR-10 batch, try it with all five batches."
   ]
  },
  {
   "cell_type": "code",
   "execution_count": 69,
   "metadata": {
    "collapsed": false
   },
   "outputs": [
    {
     "name": "stdout",
     "output_type": "stream",
     "text": [
      "Training...\n",
      "Epoch  1, CIFAR-10 Batch 1:  Loss:     2.1731, Accuracy: 0.21960000693798065\n",
      "Epoch  1, CIFAR-10 Batch 2:  Loss:     2.0109, Accuracy: 0.257999986410141\n",
      "Epoch  1, CIFAR-10 Batch 3:  Loss:     1.8836, Accuracy: 0.301800012588501\n",
      "Epoch  1, CIFAR-10 Batch 4:  Loss:     1.7614, Accuracy: 0.33180001378059387\n",
      "Epoch  1, CIFAR-10 Batch 5:  Loss:     1.7874, Accuracy: 0.33480000495910645\n",
      "Epoch  2, CIFAR-10 Batch 1:  Loss:     1.7887, Accuracy: 0.36039999127388\n",
      "Epoch  2, CIFAR-10 Batch 2:  Loss:     1.6440, Accuracy: 0.412200003862381\n",
      "Epoch  2, CIFAR-10 Batch 3:  Loss:     1.4813, Accuracy: 0.4052000045776367\n",
      "Epoch  2, CIFAR-10 Batch 4:  Loss:     1.4856, Accuracy: 0.4169999957084656\n",
      "Epoch  2, CIFAR-10 Batch 5:  Loss:     1.4992, Accuracy: 0.4480000138282776\n",
      "Epoch  3, CIFAR-10 Batch 1:  Loss:     1.5811, Accuracy: 0.4406000077724457\n",
      "Epoch  3, CIFAR-10 Batch 2:  Loss:     1.4694, Accuracy: 0.46860000491142273\n",
      "Epoch  3, CIFAR-10 Batch 3:  Loss:     1.2880, Accuracy: 0.47360000014305115\n",
      "Epoch  3, CIFAR-10 Batch 4:  Loss:     1.3456, Accuracy: 0.492000013589859\n",
      "Epoch  3, CIFAR-10 Batch 5:  Loss:     1.4039, Accuracy: 0.46160000562667847\n",
      "Epoch  4, CIFAR-10 Batch 1:  Loss:     1.4165, Accuracy: 0.48919999599456787\n",
      "Epoch  4, CIFAR-10 Batch 2:  Loss:     1.3311, Accuracy: 0.5162000060081482\n",
      "Epoch  4, CIFAR-10 Batch 3:  Loss:     1.1649, Accuracy: 0.5210000276565552\n",
      "Epoch  4, CIFAR-10 Batch 4:  Loss:     1.1860, Accuracy: 0.5339999794960022\n",
      "Epoch  4, CIFAR-10 Batch 5:  Loss:     1.2566, Accuracy: 0.5099999904632568\n",
      "Epoch  5, CIFAR-10 Batch 1:  Loss:     1.3147, Accuracy: 0.5388000011444092\n",
      "Epoch  5, CIFAR-10 Batch 2:  Loss:     1.2799, Accuracy: 0.521399974822998\n",
      "Epoch  5, CIFAR-10 Batch 3:  Loss:     1.1274, Accuracy: 0.5407999753952026\n",
      "Epoch  5, CIFAR-10 Batch 4:  Loss:     1.0831, Accuracy: 0.555400013923645\n",
      "Epoch  5, CIFAR-10 Batch 5:  Loss:     1.1644, Accuracy: 0.5527999997138977\n",
      "Epoch  6, CIFAR-10 Batch 1:  Loss:     1.2064, Accuracy: 0.5601999759674072\n",
      "Epoch  6, CIFAR-10 Batch 2:  Loss:     1.1600, Accuracy: 0.5604000091552734\n",
      "Epoch  6, CIFAR-10 Batch 3:  Loss:     1.0701, Accuracy: 0.5609999895095825\n",
      "Epoch  6, CIFAR-10 Batch 4:  Loss:     1.0118, Accuracy: 0.5821999907493591\n",
      "Epoch  6, CIFAR-10 Batch 5:  Loss:     1.0917, Accuracy: 0.5720000267028809\n",
      "Epoch  7, CIFAR-10 Batch 1:  Loss:     1.1099, Accuracy: 0.5830000042915344\n",
      "Epoch  7, CIFAR-10 Batch 2:  Loss:     1.1391, Accuracy: 0.5802000164985657\n",
      "Epoch  7, CIFAR-10 Batch 3:  Loss:     0.9732, Accuracy: 0.5799999833106995\n",
      "Epoch  7, CIFAR-10 Batch 4:  Loss:     0.9300, Accuracy: 0.5935999751091003\n",
      "Epoch  7, CIFAR-10 Batch 5:  Loss:     1.0317, Accuracy: 0.5985999703407288\n",
      "Epoch  8, CIFAR-10 Batch 1:  Loss:     1.0299, Accuracy: 0.598800003528595\n",
      "Epoch  8, CIFAR-10 Batch 2:  Loss:     1.0574, Accuracy: 0.5960000157356262\n",
      "Epoch  8, CIFAR-10 Batch 3:  Loss:     0.9326, Accuracy: 0.6046000123023987\n",
      "Epoch  8, CIFAR-10 Batch 4:  Loss:     0.8411, Accuracy: 0.6194000244140625\n",
      "Epoch  8, CIFAR-10 Batch 5:  Loss:     0.9953, Accuracy: 0.6001999974250793\n",
      "Epoch  9, CIFAR-10 Batch 1:  Loss:     1.0079, Accuracy: 0.6078000068664551\n",
      "Epoch  9, CIFAR-10 Batch 2:  Loss:     0.9511, Accuracy: 0.6322000026702881\n",
      "Epoch  9, CIFAR-10 Batch 3:  Loss:     0.8345, Accuracy: 0.6326000094413757\n",
      "Epoch  9, CIFAR-10 Batch 4:  Loss:     0.7827, Accuracy: 0.6377999782562256\n",
      "Epoch  9, CIFAR-10 Batch 5:  Loss:     0.8916, Accuracy: 0.6320000290870667\n",
      "Epoch 10, CIFAR-10 Batch 1:  Loss:     0.9451, Accuracy: 0.6317999958992004\n",
      "Epoch 10, CIFAR-10 Batch 2:  Loss:     0.9133, Accuracy: 0.6498000025749207\n",
      "Epoch 10, CIFAR-10 Batch 3:  Loss:     0.8269, Accuracy: 0.6385999917984009\n",
      "Epoch 10, CIFAR-10 Batch 4:  Loss:     0.7459, Accuracy: 0.6492000222206116\n",
      "Epoch 10, CIFAR-10 Batch 5:  Loss:     0.8344, Accuracy: 0.6499999761581421\n",
      "Epoch 11, CIFAR-10 Batch 1:  Loss:     0.8693, Accuracy: 0.6384000182151794\n",
      "Epoch 11, CIFAR-10 Batch 2:  Loss:     0.8553, Accuracy: 0.659600019454956\n",
      "Epoch 11, CIFAR-10 Batch 3:  Loss:     0.7478, Accuracy: 0.6615999937057495\n",
      "Epoch 11, CIFAR-10 Batch 4:  Loss:     0.6852, Accuracy: 0.66839998960495\n",
      "Epoch 11, CIFAR-10 Batch 5:  Loss:     0.7735, Accuracy: 0.6638000011444092\n",
      "Epoch 12, CIFAR-10 Batch 1:  Loss:     0.8376, Accuracy: 0.6528000235557556\n",
      "Epoch 12, CIFAR-10 Batch 2:  Loss:     0.8328, Accuracy: 0.6489999890327454\n",
      "Epoch 12, CIFAR-10 Batch 3:  Loss:     0.7000, Accuracy: 0.6791999936103821\n",
      "Epoch 12, CIFAR-10 Batch 4:  Loss:     0.6205, Accuracy: 0.6815999746322632\n",
      "Epoch 12, CIFAR-10 Batch 5:  Loss:     0.7275, Accuracy: 0.6797999739646912\n",
      "Epoch 13, CIFAR-10 Batch 1:  Loss:     0.8079, Accuracy: 0.6697999835014343\n",
      "Epoch 13, CIFAR-10 Batch 2:  Loss:     0.8167, Accuracy: 0.6567999720573425\n",
      "Epoch 13, CIFAR-10 Batch 3:  Loss:     0.7106, Accuracy: 0.6823999881744385\n",
      "Epoch 13, CIFAR-10 Batch 4:  Loss:     0.5874, Accuracy: 0.6890000104904175\n",
      "Epoch 13, CIFAR-10 Batch 5:  Loss:     0.6881, Accuracy: 0.6949999928474426\n",
      "Epoch 14, CIFAR-10 Batch 1:  Loss:     0.7222, Accuracy: 0.6955999732017517\n",
      "Epoch 14, CIFAR-10 Batch 2:  Loss:     0.7478, Accuracy: 0.6833999752998352\n",
      "Epoch 14, CIFAR-10 Batch 3:  Loss:     0.6417, Accuracy: 0.6977999806404114\n",
      "Epoch 14, CIFAR-10 Batch 4:  Loss:     0.5625, Accuracy: 0.6995999813079834\n",
      "Epoch 14, CIFAR-10 Batch 5:  Loss:     0.6481, Accuracy: 0.6819999814033508\n",
      "Epoch 15, CIFAR-10 Batch 1:  Loss:     0.6713, Accuracy: 0.7062000036239624\n",
      "Epoch 15, CIFAR-10 Batch 2:  Loss:     0.7073, Accuracy: 0.6830000281333923\n",
      "Epoch 15, CIFAR-10 Batch 3:  Loss:     0.6191, Accuracy: 0.696399986743927\n",
      "Epoch 15, CIFAR-10 Batch 4:  Loss:     0.5152, Accuracy: 0.7045999765396118\n",
      "Epoch 15, CIFAR-10 Batch 5:  Loss:     0.5845, Accuracy: 0.6919999718666077\n",
      "Epoch 16, CIFAR-10 Batch 1:  Loss:     0.6450, Accuracy: 0.7038000226020813\n",
      "Epoch 16, CIFAR-10 Batch 2:  Loss:     0.6497, Accuracy: 0.7016000151634216\n",
      "Epoch 16, CIFAR-10 Batch 3:  Loss:     0.6018, Accuracy: 0.692799985408783\n",
      "Epoch 16, CIFAR-10 Batch 4:  Loss:     0.4933, Accuracy: 0.7148000001907349\n",
      "Epoch 16, CIFAR-10 Batch 5:  Loss:     0.5319, Accuracy: 0.7057999968528748\n",
      "Epoch 17, CIFAR-10 Batch 1:  Loss:     0.6429, Accuracy: 0.6949999928474426\n",
      "Epoch 17, CIFAR-10 Batch 2:  Loss:     0.6270, Accuracy: 0.7192000150680542\n",
      "Epoch 17, CIFAR-10 Batch 3:  Loss:     0.5435, Accuracy: 0.70660001039505\n",
      "Epoch 17, CIFAR-10 Batch 4:  Loss:     0.4831, Accuracy: 0.7084000110626221\n",
      "Epoch 17, CIFAR-10 Batch 5:  Loss:     0.5320, Accuracy: 0.7088000178337097\n",
      "Epoch 18, CIFAR-10 Batch 1:  Loss:     0.5680, Accuracy: 0.7200000286102295\n",
      "Epoch 18, CIFAR-10 Batch 2:  Loss:     0.5563, Accuracy: 0.7265999913215637\n",
      "Epoch 18, CIFAR-10 Batch 3:  Loss:     0.5450, Accuracy: 0.6926000118255615\n",
      "Epoch 18, CIFAR-10 Batch 4:  Loss:     0.5116, Accuracy: 0.7039999961853027\n",
      "Epoch 18, CIFAR-10 Batch 5:  Loss:     0.4955, Accuracy: 0.7166000008583069\n",
      "Epoch 19, CIFAR-10 Batch 1:  Loss:     0.5172, Accuracy: 0.727400004863739\n",
      "Epoch 19, CIFAR-10 Batch 2:  Loss:     0.5340, Accuracy: 0.7200000286102295\n",
      "Epoch 19, CIFAR-10 Batch 3:  Loss:     0.4816, Accuracy: 0.7098000049591064\n",
      "Epoch 19, CIFAR-10 Batch 4:  Loss:     0.4368, Accuracy: 0.717199981212616\n",
      "Epoch 19, CIFAR-10 Batch 5:  Loss:     0.4512, Accuracy: 0.7269999980926514\n",
      "Epoch 20, CIFAR-10 Batch 1:  Loss:     0.4856, Accuracy: 0.7202000021934509\n",
      "Epoch 20, CIFAR-10 Batch 2:  Loss:     0.5087, Accuracy: 0.7278000116348267\n",
      "Epoch 20, CIFAR-10 Batch 3:  Loss:     0.4467, Accuracy: 0.728600025177002\n",
      "Epoch 20, CIFAR-10 Batch 4:  Loss:     0.4106, Accuracy: 0.7297999858856201\n",
      "Epoch 20, CIFAR-10 Batch 5:  Loss:     0.4378, Accuracy: 0.7146000266075134\n",
      "Epoch 21, CIFAR-10 Batch 1:  Loss:     0.5344, Accuracy: 0.6984000205993652\n",
      "Epoch 21, CIFAR-10 Batch 2:  Loss:     0.5280, Accuracy: 0.7157999873161316\n",
      "Epoch 21, CIFAR-10 Batch 3:  Loss:     0.4071, Accuracy: 0.7379999756813049\n",
      "Epoch 21, CIFAR-10 Batch 4:  Loss:     0.3876, Accuracy: 0.7278000116348267\n",
      "Epoch 21, CIFAR-10 Batch 5:  Loss:     0.3917, Accuracy: 0.7184000015258789\n",
      "Epoch 22, CIFAR-10 Batch 1:  Loss:     0.4547, Accuracy: 0.7110000252723694\n",
      "Epoch 22, CIFAR-10 Batch 2:  Loss:     0.4805, Accuracy: 0.7265999913215637\n",
      "Epoch 22, CIFAR-10 Batch 3:  Loss:     0.3900, Accuracy: 0.7336000204086304\n",
      "Epoch 22, CIFAR-10 Batch 4:  Loss:     0.3626, Accuracy: 0.7283999919891357\n",
      "Epoch 22, CIFAR-10 Batch 5:  Loss:     0.3763, Accuracy: 0.7124000191688538\n",
      "Epoch 23, CIFAR-10 Batch 1:  Loss:     0.4153, Accuracy: 0.7257999777793884\n",
      "Epoch 23, CIFAR-10 Batch 2:  Loss:     0.4311, Accuracy: 0.7305999994277954\n",
      "Epoch 23, CIFAR-10 Batch 3:  Loss:     0.3717, Accuracy: 0.7315999865531921\n",
      "Epoch 23, CIFAR-10 Batch 4:  Loss:     0.3438, Accuracy: 0.7342000007629395\n",
      "Epoch 23, CIFAR-10 Batch 5:  Loss:     0.3487, Accuracy: 0.7310000061988831\n",
      "Epoch 24, CIFAR-10 Batch 1:  Loss:     0.3630, Accuracy: 0.7365999817848206\n",
      "Epoch 24, CIFAR-10 Batch 2:  Loss:     0.4177, Accuracy: 0.7287999987602234\n",
      "Epoch 24, CIFAR-10 Batch 3:  Loss:     0.3432, Accuracy: 0.7386000156402588\n",
      "Epoch 24, CIFAR-10 Batch 4:  Loss:     0.3175, Accuracy: 0.73580002784729\n",
      "Epoch 24, CIFAR-10 Batch 5:  Loss:     0.3242, Accuracy: 0.7319999933242798\n",
      "Epoch 25, CIFAR-10 Batch 1:  Loss:     0.3377, Accuracy: 0.7289999723434448\n",
      "Epoch 25, CIFAR-10 Batch 2:  Loss:     0.3719, Accuracy: 0.7372000217437744\n",
      "Epoch 25, CIFAR-10 Batch 3:  Loss:     0.3329, Accuracy: 0.7265999913215637\n",
      "Epoch 25, CIFAR-10 Batch 4:  Loss:     0.2772, Accuracy: 0.728600025177002\n",
      "Epoch 25, CIFAR-10 Batch 5:  Loss:     0.2963, Accuracy: 0.7365999817848206\n"
     ]
    }
   ],
   "source": [
    "\n",
    "save_model_path = './image_classification'\n",
    "\n",
    "print('Training...')\n",
    "with tf.Session() as sess:\n",
    "    # Initializing the variables\n",
    "    sess.run(tf.global_variables_initializer())\n",
    "    \n",
    "    # Training cycle\n",
    "    for epoch in range(epochs):\n",
    "        # Loop over all batches\n",
    "        n_batches = 5\n",
    "        for batch_i in range(1, n_batches + 1):\n",
    "            for batch_features, batch_labels in helper.load_preprocess_training_batch(batch_i, batch_size):\n",
    "                train_neural_network(sess, optimizer, keep_probability, batch_features, batch_labels)\n",
    "            print('Epoch {:>2}, CIFAR-10 Batch {}:  '.format(epoch + 1, batch_i), end='')\n",
    "            print_stats(sess, batch_features, batch_labels, cost, accuracy)\n",
    "            \n",
    "    # Save Model\n",
    "    saver = tf.train.Saver()\n",
    "    save_path = saver.save(sess, save_model_path)"
   ]
  },
  {
   "cell_type": "markdown",
   "metadata": {},
   "source": [
    "# Checkpoint\n",
    "The model has been saved to disk.\n",
    "## Test Model\n",
    "Test your model against the test dataset.  This will be your final accuracy. You should have an accuracy greater than 50%. If you don't, keep tweaking the model architecture and parameters."
   ]
  },
  {
   "cell_type": "code",
   "execution_count": 1,
   "metadata": {
    "collapsed": false
   },
   "outputs": [
    {
     "name": "stdout",
     "output_type": "stream",
     "text": [
      "INFO:tensorflow:Restoring parameters from ./image_classification\n",
      "Testing Accuracy: 0.7308917197452229\n",
      "\n"
     ]
    },
    {
     "data": {
      "image/png": "[encoded data removed]",
      "text/plain": [
       "<matplotlib.figure.Figure at 0x118713eb8>"
      ]
     },
     "metadata": {
      "image/png": {
       "height": 319,
       "width": 355
      }
     },
     "output_type": "display_data"
    }
   ],
   "source": [
    "\n",
    "%matplotlib inline\n",
    "%config InlineBackend.figure_format = 'retina'\n",
    "\n",
    "import tensorflow as tf\n",
    "import pickle\n",
    "import helper\n",
    "import random\n",
    "\n",
    "# Set batch size if not already set\n",
    "try:\n",
    "    if batch_size:\n",
    "        pass\n",
    "except NameError:\n",
    "    batch_size = 64\n",
    "\n",
    "save_model_path = './image_classification'\n",
    "n_samples = 4\n",
    "top_n_predictions = 3\n",
    "\n",
    "def test_model():\n",
    "    \"\"\"\n",
    "    Test the saved model against the test dataset\n",
    "    \"\"\"\n",
    "\n",
    "    test_features, test_labels = pickle.load(open('preprocess_training.p', mode='rb'))\n",
    "    loaded_graph = tf.Graph()\n",
    "\n",
    "    with tf.Session(graph=loaded_graph) as sess:\n",
    "        # Load model\n",
    "        loader = tf.train.import_meta_graph(save_model_path + '.meta')\n",
    "        loader.restore(sess, save_model_path)\n",
    "\n",
    "        # Get Tensors from loaded model\n",
    "        loaded_x = loaded_graph.get_tensor_by_name('x:0')\n",
    "        loaded_y = loaded_graph.get_tensor_by_name('y:0')\n",
    "        loaded_keep_prob = loaded_graph.get_tensor_by_name('keep_prob:0')\n",
    "        loaded_logits = loaded_graph.get_tensor_by_name('logits:0')\n",
    "        loaded_acc = loaded_graph.get_tensor_by_name('accuracy:0')\n",
    "        \n",
    "        # Get accuracy in batches for memory limitations\n",
    "        test_batch_acc_total = 0\n",
    "        test_batch_count = 0\n",
    "        \n",
    "        for train_feature_batch, train_label_batch in helper.batch_features_labels(test_features, test_labels, batch_size):\n",
    "            test_batch_acc_total += sess.run(\n",
    "                loaded_acc,\n",
    "                feed_dict={loaded_x: train_feature_batch, loaded_y: train_label_batch, loaded_keep_prob: 1.0})\n",
    "            test_batch_count += 1\n",
    "\n",
    "        print('Testing Accuracy: {}\\n'.format(test_batch_acc_total/test_batch_count))\n",
    "\n",
    "        # Print Random Samples\n",
    "        random_test_features, random_test_labels = tuple(zip(*random.sample(list(zip(test_features, test_labels)), n_samples)))\n",
    "        random_test_predictions = sess.run(\n",
    "            tf.nn.top_k(tf.nn.softmax(loaded_logits), top_n_predictions),\n",
    "            feed_dict={loaded_x: random_test_features, loaded_y: random_test_labels, loaded_keep_prob: 1.0})\n",
    "        helper.display_image_predictions(random_test_features, random_test_labels, random_test_predictions)\n",
    "\n",
    "\n",
    "test_model()"
   ]
  },
  {
   "cell_type": "code",
   "execution_count": null,
   "metadata": {
    "collapsed": true
   },
   "outputs": [],
   "source": []
  }
 ],
 "metadata": {
  "kernelspec": {
   "display_name": "Python 3",
   "language": "python",
   "name": "python3"
  },
  "language_info": {
   "codemirror_mode": {
    "name": "ipython",
    "version": 3
   },
   "file_extension": ".py",
   "mimetype": "text/x-python",
   "name": "python",
   "nbconvert_exporter": "python",
   "pygments_lexer": "ipython3",
   "version": "3.6.0"
  }
 },
 "nbformat": 4,
 "nbformat_minor": 1
}
